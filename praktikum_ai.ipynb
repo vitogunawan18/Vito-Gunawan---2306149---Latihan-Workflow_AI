{
  "nbformat": 4,
  "nbformat_minor": 0,
  "metadata": {
    "colab": {
      "provenance": [],
      "authorship_tag": "ABX9TyP8/vynVM1Auo9BA443drZs",
      "include_colab_link": true
    },
    "kernelspec": {
      "name": "python3",
      "display_name": "Python 3"
    },
    "language_info": {
      "name": "python"
    }
  },
  "cells": [
    {
      "cell_type": "markdown",
      "metadata": {
        "id": "view-in-github",
        "colab_type": "text"
      },
      "source": [
        "<a href=\"https://colab.research.google.com/github/vitogunawan18/Vito_Gunawan_2306149_Latihan_Workflow_AI/blob/main/praktikum_ai.ipynb\" target=\"_parent\"><img src=\"https://colab.research.google.com/assets/colab-badge.svg\" alt=\"Open In Colab\"/></a>"
      ]
    },
    {
      "cell_type": "code",
      "execution_count": 26,
      "metadata": {
        "colab": {
          "base_uri": "https://localhost:8080/"
        },
        "id": "SKvy9lKJTPVm",
        "outputId": "55aa6af0-0db8-4ef4-a6f2-831b3f91c747"
      },
      "outputs": [
        {
          "output_type": "stream",
          "name": "stdout",
          "text": [
            "File data_penjualan_latihan_1.csv berhasil dibuat!\n"
          ]
        }
      ],
      "source": [
        "import pandas as pd\n",
        "\n",
        "# Buat dataset dengan 11 data dan produk yang lebih bervariasi\n",
        "data = {\n",
        "    \"Tanggal\": [\"2025-03-11\", \"2025-03-12\", \"2025-03-13\", \"2025-03-14\", \"2025-03-15\",\n",
        "                \"2025-03-16\", \"2025-03-17\", \"2025-03-18\", \"2025-03-19\", \"2025-03-20\",\n",
        "                \"2025-03-21\"],\n",
        "    \"Produk\": [\"Roti\", \"Keju\", \"Saus Tomat\", \"Kecap\", \"Deterjen\",\n",
        "               \"Lotion\", \"Obat Batuk\", \"Air Mineral\", \"Pasta Gigi\", \"Shampoo\",\n",
        "               \"Sabun Mandi\"],\n",
        "    \"Jumlah Terjual\": [12, 7, 9, 4, 6, 8, 5, 15, 10, 3, 11],\n",
        "    \"Stok\": [20, 15, 10, 8, 12, 9, 7, 25, 13, 6, 15],\n",
        "    \"Harga Satuan\": [15000, 55000, 12000, 13000, 25000,\n",
        "                     45000, 30000, 3000, 18000, 40000, 10000]\n",
        "}\n",
        "\n",
        "# Konversi ke DataFrame\n",
        "df = pd.DataFrame(data)\n",
        "\n",
        "# Simpan sebagai file CSV\n",
        "df.to_csv(\"data_penjualan_latihan_1.csv\", index=False)\n",
        "\n",
        "print(\"File data_penjualan_latihan_1.csv berhasil dibuat!\")"
      ]
    },
    {
      "cell_type": "code",
      "source": [
        "# Membaca file CSV\n",
        "df = pd.read_csv(\"data_penjualan_latihan_1.csv\")\n",
        "\n",
        "# Menampilkan data pertama sebelum transformasi\n",
        "print(df.to_string())"
      ],
      "metadata": {
        "colab": {
          "base_uri": "https://localhost:8080/"
        },
        "id": "S3cgN6IYUv0r",
        "outputId": "f564a771-912b-4ccc-91cb-f13a0c3cd8fe"
      },
      "execution_count": 27,
      "outputs": [
        {
          "output_type": "stream",
          "name": "stdout",
          "text": [
            "       Tanggal       Produk  Jumlah Terjual  Stok  Harga Satuan\n",
            "0   2025-03-11         Roti              12    20         15000\n",
            "1   2025-03-12         Keju               7    15         55000\n",
            "2   2025-03-13   Saus Tomat               9    10         12000\n",
            "3   2025-03-14        Kecap               4     8         13000\n",
            "4   2025-03-15     Deterjen               6    12         25000\n",
            "5   2025-03-16       Lotion               8     9         45000\n",
            "6   2025-03-17   Obat Batuk               5     7         30000\n",
            "7   2025-03-18  Air Mineral              15    25          3000\n",
            "8   2025-03-19   Pasta Gigi              10    13         18000\n",
            "9   2025-03-20      Shampoo               3     6         40000\n",
            "10  2025-03-21  Sabun Mandi              11    15         10000\n"
          ]
        }
      ]
    },
    {
      "cell_type": "code",
      "source": [
        "#Cek apakah ada data yang hilang\n",
        "print(\"\\nCek data yang hilang:\")\n",
        "print(df.isnull().sum())\n",
        "\n",
        "#Konversi kolom \"Tanggal\" ke format datetime\n",
        "df[\"Tanggal\"] = pd.to_datetime(df[\"Tanggal\"])\n",
        "\n",
        "#Tambahkan kolom \"Total Penjualan\"\n",
        "df[\"Total Penjualan\"] = df[\"Jumlah Terjual\"] * df[\"Harga Satuan\"]\n",
        "\n",
        "#Tambahkan kolom \"Keuntungan\" (Asumsi modal Rp10.000 per produk)\n",
        "df[\"Keuntungan\"] = df[\"Total Penjualan\"] - (df[\"Jumlah Terjual\"] * 10000)\n",
        "\n",
        "#Menampilkan hasil 5 data pertama setelah transformasi\n",
        "print(\"\\nData setelah transformasi:\")\n",
        "print(df.to_string())"
      ],
      "metadata": {
        "colab": {
          "base_uri": "https://localhost:8080/"
        },
        "id": "RwMoFgKpWbhT",
        "outputId": "3e725e66-6138-40fc-c403-9e5481aeabeb"
      },
      "execution_count": 28,
      "outputs": [
        {
          "output_type": "stream",
          "name": "stdout",
          "text": [
            "\n",
            "Cek data yang hilang:\n",
            "Tanggal           0\n",
            "Produk            0\n",
            "Jumlah Terjual    0\n",
            "Stok              0\n",
            "Harga Satuan      0\n",
            "dtype: int64\n",
            "\n",
            "Data setelah transformasi:\n",
            "      Tanggal       Produk  Jumlah Terjual  Stok  Harga Satuan  Total Penjualan  Keuntungan\n",
            "0  2025-03-11         Roti              12    20         15000           180000       60000\n",
            "1  2025-03-12         Keju               7    15         55000           385000      315000\n",
            "2  2025-03-13   Saus Tomat               9    10         12000           108000       18000\n",
            "3  2025-03-14        Kecap               4     8         13000            52000       12000\n",
            "4  2025-03-15     Deterjen               6    12         25000           150000       90000\n",
            "5  2025-03-16       Lotion               8     9         45000           360000      280000\n",
            "6  2025-03-17   Obat Batuk               5     7         30000           150000      100000\n",
            "7  2025-03-18  Air Mineral              15    25          3000            45000     -105000\n",
            "8  2025-03-19   Pasta Gigi              10    13         18000           180000       80000\n",
            "9  2025-03-20      Shampoo               3     6         40000           120000       90000\n",
            "10 2025-03-21  Sabun Mandi              11    15         10000           110000           0\n"
          ]
        }
      ]
    },
    {
      "cell_type": "code",
      "source": [
        "!pip install scikit-learn"
      ],
      "metadata": {
        "colab": {
          "base_uri": "https://localhost:8080/"
        },
        "id": "NGwd-doiXc3H",
        "outputId": "f7aac087-c879-417e-c4b1-3b9d6d727cb0"
      },
      "execution_count": 29,
      "outputs": [
        {
          "output_type": "stream",
          "name": "stdout",
          "text": [
            "Requirement already satisfied: scikit-learn in /usr/local/lib/python3.11/dist-packages (1.6.1)\n",
            "Requirement already satisfied: numpy>=1.19.5 in /usr/local/lib/python3.11/dist-packages (from scikit-learn) (1.26.4)\n",
            "Requirement already satisfied: scipy>=1.6.0 in /usr/local/lib/python3.11/dist-packages (from scikit-learn) (1.13.1)\n",
            "Requirement already satisfied: joblib>=1.2.0 in /usr/local/lib/python3.11/dist-packages (from scikit-learn) (1.4.2)\n",
            "Requirement already satisfied: threadpoolctl>=3.1.0 in /usr/local/lib/python3.11/dist-packages (from scikit-learn) (3.5.0)\n"
          ]
        }
      ]
    },
    {
      "cell_type": "code",
      "source": [
        "from sklearn.model_selection import train_test_split\n",
        "from sklearn.tree import DecisionTreeClassifier\n",
        "from sklearn.metrics import accuracy_score\n",
        "\n",
        "# Pilih fitur (X) dan target (y)\n",
        "X = df[[\"Jumlah Terjual\", \"Stok\"]]\n",
        "y = (df[\"Stok\"] < 5).astype(int)  # 1 jika stok kurang dari 5, 0 jika cukup\n",
        "\n",
        "# Split data menjadi train dan test\n",
        "X_train, X_test, y_train, y_test = train_test_split(X, y, test_size=0.2, random_state=42)\n",
        "\n",
        "# Buat model Decision Tree\n",
        "model = DecisionTreeClassifier(random_state=42)\n",
        "model.fit(X_train, y_train)\n",
        "\n",
        "# Evaluasi model\n",
        "y_pred = model.predict(X_test)\n",
        "akurasi = accuracy_score(y_test, y_pred)\n",
        "\n",
        "# Menampilkan hasil\n",
        "print(f\"Akurasi Model: {akurasi:.2f}\")"
      ],
      "metadata": {
        "colab": {
          "base_uri": "https://localhost:8080/"
        },
        "id": "Eu1AQcQ5XX9d",
        "outputId": "5445f058-bfb9-4e19-84c1-7d4dc9ef4b7d"
      },
      "execution_count": 22,
      "outputs": [
        {
          "output_type": "stream",
          "name": "stdout",
          "text": [
            "Akurasi Model: 1.00\n"
          ]
        }
      ]
    },
    {
      "cell_type": "code",
      "source": [
        "# Contoh produk baru (Jumlah Terjual = 8, Stok = 3)\n",
        "produk_baru=[[8,3]]\n",
        "\n",
        "# Prediksi menggunakan model yang telah dilatih\n",
        "prediksi = model.predict(produk_baru)\n",
        "\n",
        "print(\"Prediksi untuk produk baru (Jumlah Terjual = 8, Stok = 3):\")\n",
        "\n",
        "if prediksi[0] == 1:\n",
        "    print(\"Produk perlu di-restock!\")\n",
        "else:\n",
        "    print(\"Stok masih cukup.\")"
      ],
      "metadata": {
        "colab": {
          "base_uri": "https://localhost:8080/"
        },
        "id": "KAjTcqj7ZAXE",
        "outputId": "3c9ad587-627a-44a5-9589-da55aca61e57"
      },
      "execution_count": 30,
      "outputs": [
        {
          "output_type": "stream",
          "name": "stdout",
          "text": [
            "Prediksi untuk produk baru (Jumlah Terjual = 8, Stok = 3):\n",
            "Stok masih cukup.\n"
          ]
        },
        {
          "output_type": "stream",
          "name": "stderr",
          "text": [
            "/usr/local/lib/python3.11/dist-packages/sklearn/utils/validation.py:2739: UserWarning: X does not have valid feature names, but DecisionTreeClassifier was fitted with feature names\n",
            "  warnings.warn(\n"
          ]
        }
      ]
    },
    {
      "cell_type": "code",
      "source": [
        "import matplotlib.pyplot as plt\n",
        "\n",
        "plt.scatter(df[\"Jumlah Terjual\"], df[\"Stok\"], c=df[\"Keuntungan\"], cmap=\"coolwarm\")\n",
        "plt.xlabel(\"Jumlah Terjual\")\n",
        "plt.ylabel(\"Stok\")\n",
        "plt.title(\"Analisis Penjualan dan Stok\")\n",
        "plt.colorbar(label=\"Keuntungan\")\n",
        "plt.show()"
      ],
      "metadata": {
        "colab": {
          "base_uri": "https://localhost:8080/",
          "height": 472
        },
        "id": "Jp_yoWZAauYN",
        "outputId": "876eb650-1a0b-4985-f35b-1057726b2f4a"
      },
      "execution_count": 32,
      "outputs": [
        {
          "output_type": "display_data",
          "data": {
            "text/plain": [
              "<Figure size 640x480 with 2 Axes>"
            ],
            "image/png": "[encoded data removed]"
          },
          "metadata": {}
        }
      ]
    }
  ]
}